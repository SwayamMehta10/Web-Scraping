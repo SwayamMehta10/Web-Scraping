{
 "cells": [
  {
   "cell_type": "code",
   "execution_count": 1,
   "metadata": {},
   "outputs": [],
   "source": [
    "import numpy as np\n",
    "import pandas as pd\n",
    "import requests\n",
    "from bs4 import BeautifulSoup"
   ]
  },
  {
   "cell_type": "code",
   "execution_count": 2,
   "metadata": {},
   "outputs": [],
   "source": [
    "base_url = 'https://understat.com/league'\n",
    "leagues = ['EPL', 'La liga', 'Bundesliga', 'Serie A', 'Ligue 1', 'RFPL']\n",
    "seasons = ['2014', '2015', '2016', '2017', '2018', '2019', '2020', '2021']"
   ]
  },
  {
   "cell_type": "code",
   "execution_count": 3,
   "metadata": {},
   "outputs": [],
   "source": [
    "url = base_url + '/' + leagues[0] + '/' + seasons[0]\n",
    "res = requests.get(url)\n",
    "soup = BeautifulSoup(res.content, \"lxml\")\n",
    "\n",
    "scripts = soup.find_all('script')"
   ]
  },
  {
   "cell_type": "code",
   "execution_count": 4,
   "metadata": {},
   "outputs": [],
   "source": [
    "import json\n",
    "\n",
    "string_with_json_obj = ''\n",
    "\n",
    "for el in scripts:\n",
    "    if 'teamsData' in str(el):\n",
    "        string_with_json_obj = str(el).strip()\n",
    "\n",
    "ind_star = string_with_json_obj.index(\"('\") + 2\n",
    "ind_end = string_with_json_obj.index(\"')\")\n",
    "\n",
    "json_data = string_with_json_obj[ind_star:ind_end].encode('utf8').decode('unicode_escape')\n"
   ]
  },
  {
   "cell_type": "code",
   "execution_count": 5,
   "metadata": {},
   "outputs": [
    {
     "name": "stdout",
     "output_type": "stream",
     "text": [
      "dict_keys(['71', '72', '74', '75', '76', '77', '78', '80', '81', '82', '83', '84', '85', '86', '87', '88', '89', '91', '92', '202'])\n",
      "==================================================\n",
      "dict_keys(['id', 'title', 'history'])\n",
      "==================================================\n",
      "87\n",
      "==================================================\n",
      "Liverpool\n",
      "==================================================\n",
      "{'h_a': 'h', 'xG': 1.33192, 'xGA': 1.55248, 'npxG': 1.33192, 'npxGA': 1.55248, 'ppda': {'att': 238, 'def': 21}, 'ppda_allowed': {'att': 401, 'def': 36}, 'deep': 6, 'deep_allowed': 9, 'scored': 2, 'missed': 1, 'xpts': 1.1776999999999997, 'result': 'w', 'date': '2014-08-17 13:30:00', 'wins': 1, 'draws': 0, 'loses': 0, 'pts': 3, 'npxGD': -0.2205600000000001}\n"
     ]
    }
   ],
   "source": [
    "data = json.loads(json_data)\n",
    "\n",
    "# s = json.dumps(data, indent=4, sort_keys=True)\n",
    "# print(s)\n",
    "\n",
    "print(data.keys())\n",
    "print('=' * 50)\n",
    "print(data['87'].keys())\n",
    "print('=' * 50)\n",
    "print(data['87']['id'])\n",
    "print('=' * 50)\n",
    "print(data['87']['title'])\n",
    "print('=' * 50)\n",
    "print(data['87']['history'][0])"
   ]
  }
 ],
 "metadata": {
  "interpreter": {
   "hash": "f132bea8b93cea75a13aff330cbb4953f3165633a758019ff8ea38d62c6b3e87"
  },
  "kernelspec": {
   "display_name": "Python 3.10.1 64-bit",
   "language": "python",
   "name": "python3"
  },
  "language_info": {
   "codemirror_mode": {
    "name": "ipython",
    "version": 3
   },
   "file_extension": ".py",
   "mimetype": "text/x-python",
   "name": "python",
   "nbconvert_exporter": "python",
   "pygments_lexer": "ipython3",
   "version": "3.10.1"
  },
  "orig_nbformat": 4
 },
 "nbformat": 4,
 "nbformat_minor": 2
}
