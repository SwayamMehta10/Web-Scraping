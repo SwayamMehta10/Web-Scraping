{
 "cells": [
  {
   "cell_type": "markdown",
   "metadata": {},
   "source": [
    "### Importing Selenium Webdriver & Testing"
   ]
  },
  {
   "cell_type": "code",
   "execution_count": 1,
   "metadata": {},
   "outputs": [],
   "source": [
    "# allow launching browser\n",
    "from selenium import webdriver\n",
    "# allow search with parameters\n",
    "from selenium.webdriver.common.by import By\n",
    "# allow waiting for page to load\n",
    "from selenium.webdriver.support.ui import WebDriverWait\n",
    "# determine whether the web page has loaded\n",
    "from selenium.webdriver.support import expected_conditions as EC\n",
    "# handling timeout situation\n",
    "from selenium.common.exceptions import TimeoutException"
   ]
  },
  {
   "cell_type": "markdown",
   "metadata": {},
   "source": [
    "Code for opening new browser window (useful while doing parallelization):"
   ]
  },
  {
   "cell_type": "code",
   "execution_count": 2,
   "metadata": {},
   "outputs": [],
   "source": [
    "driver_option = webdriver.ChromeOptions()\n",
    "driver_option.add_argument(\" - incognito\")\n",
    "chromedriver_path = 'D:/Downloads/chromedriver_win32'\n",
    "\n",
    "def create_webdriver():\n",
    "    return webdriver.Chrome(executable_path=chromedriver_path, chrome_options=driver_option)"
   ]
  }
 ],
 "metadata": {
  "kernelspec": {
   "display_name": "Python 3.10.5 64-bit",
   "language": "python",
   "name": "python3"
  },
  "language_info": {
   "codemirror_mode": {
    "name": "ipython",
    "version": 3
   },
   "file_extension": ".py",
   "mimetype": "text/x-python",
   "name": "python",
   "nbconvert_exporter": "python",
   "pygments_lexer": "ipython3",
   "version": "3.10.5"
  },
  "orig_nbformat": 4,
  "vscode": {
   "interpreter": {
    "hash": "f132bea8b93cea75a13aff330cbb4953f3165633a758019ff8ea38d62c6b3e87"
   }
  }
 },
 "nbformat": 4,
 "nbformat_minor": 2
}
