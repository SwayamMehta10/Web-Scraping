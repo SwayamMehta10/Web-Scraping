{
 "cells": [
  {
   "cell_type": "markdown",
   "metadata": {},
   "source": [
    "### Accessing the Data"
   ]
  },
  {
   "cell_type": "markdown",
   "metadata": {},
   "source": [
    "Importing the required keys from the <em>.env</em> file:"
   ]
  },
  {
   "cell_type": "code",
   "execution_count": 1,
   "metadata": {},
   "outputs": [],
   "source": [
    "import os\n",
    "from dotenv import load_dotenv\n",
    "load_dotenv()\n",
    "\n",
    "consumer_key=os.getenv('API_KEY')\n",
    "consumer_secret=os.getenv('API_KEY_SECRET')\n",
    "access_token=os.getenv('ACCESS_TOKEN')\n",
    "access_secret=os.getenv('ACCESS_TOKEN_SECRET')"
   ]
  },
  {
   "cell_type": "markdown",
   "metadata": {},
   "source": [
    "Using the OAuth interface to authorize our app to acces Twitter on our behalf:"
   ]
  },
  {
   "cell_type": "code",
   "execution_count": 2,
   "metadata": {},
   "outputs": [],
   "source": [
    "import tweepy\n",
    "from tweepy import OAuthHandler\n",
    "\n",
    "auth = OAuthHandler(consumer_key, consumer_secret)\n",
    "auth.set_access_token(access_token, access_secret)\n",
    "\n",
    "api = tweepy.API(auth)"
   ]
  },
  {
   "cell_type": "markdown",
   "metadata": {},
   "source": [
    "The <em>api</em> variable act as an entry point for most of the operations we can perform with Twitter."
   ]
  },
  {
   "cell_type": "markdown",
   "metadata": {},
   "source": [
    "Reading our own timeline:"
   ]
  },
  {
   "cell_type": "code",
   "execution_count": 3,
   "metadata": {},
   "outputs": [
    {
     "name": "stdout",
     "output_type": "stream",
     "text": [
      "Sublime Systems is the first company with a potential pathway to producing cost-effective, zero-carbon cement. Hear… https://t.co/sbtk4UQx4w\n",
      "Allen Hazard of the Narragansett tribe has been making wampum a 4,500-year-old Native American practice alive https://t.co/22Gu7qVcS0\n",
      "There is no longer a debate about who the biggest badass at WIRED is: It's our very own Elena Lacey, who silenced t… https://t.co/JtlGZPfs3g\n",
      "Olympiacos are close to signing In-beom Hwang, also on Augsburg and Lorient list - Greek club now getting closer af… https://t.co/noTsbZnfTx\n",
      "You heard @Calteck10! 😁\n",
      "\n",
      "Don't forget to join us this evening! ⚽️\n",
      "\n",
      "#BluesInTheUSA\n",
      "https://t.co/tXfFxkZqUU\n",
      "🧮 \"The most frequently encountered type of recreational logic problem is sometimes called by puzzlists a 'Smith-Jon… https://t.co/ckFCO3VjeC\n",
      "Nine-darter from Gerwyn Price 🚨\n",
      "\n",
      "We repeat:\n",
      "\n",
      "NINE-DARTER FROM GERWYN PRICE 🚨🚨https://t.co/zhf4CDBDpJ\n",
      "Cursed cruise ship where 120 passengers tested positive for COVID-19, now is facing 20-foot waves and brutal wind,… https://t.co/VlTry0UP6m\n",
      "🔹 Preview\n",
      "🔵 Team news\n",
      "📺 How to watch\n",
      "🇸🇳 Kalidou Koulibaly in line for first appearance\n",
      "📈 Match minutes likely to go… https://t.co/VWfKY4vmHR\n"
     ]
    }
   ],
   "source": [
    "for status in tweepy.Cursor(api.home_timeline).items(10):\n",
    "    print(status.text)"
   ]
  },
  {
   "cell_type": "markdown",
   "metadata": {},
   "source": [
    "List of all our followers:"
   ]
  },
  {
   "cell_type": "markdown",
   "metadata": {},
   "source": [
    "List of all our tweets:"
   ]
  }
 ],
 "metadata": {
  "kernelspec": {
   "display_name": "Python 3.10.1 64-bit",
   "language": "python",
   "name": "python3"
  },
  "language_info": {
   "codemirror_mode": {
    "name": "ipython",
    "version": 3
   },
   "file_extension": ".py",
   "mimetype": "text/x-python",
   "name": "python",
   "nbconvert_exporter": "python",
   "pygments_lexer": "ipython3",
   "version": "3.10.5"
  },
  "orig_nbformat": 4,
  "vscode": {
   "interpreter": {
    "hash": "f132bea8b93cea75a13aff330cbb4953f3165633a758019ff8ea38d62c6b3e87"
   }
  }
 },
 "nbformat": 4,
 "nbformat_minor": 2
}
