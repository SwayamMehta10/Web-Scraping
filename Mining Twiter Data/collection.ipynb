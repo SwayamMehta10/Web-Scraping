{
 "cells": [
  {
   "cell_type": "markdown",
   "metadata": {},
   "source": [
    "### Accessing the Data"
   ]
  },
  {
   "cell_type": "markdown",
   "metadata": {},
   "source": [
    "Importing the required keys from the <em>.env</em> file:"
   ]
  },
  {
   "cell_type": "code",
   "execution_count": 1,
   "metadata": {},
   "outputs": [],
   "source": [
    "import os\n",
    "from dotenv import load_dotenv\n",
    "load_dotenv()\n",
    "\n",
    "consumer_key=os.getenv('API_KEY')\n",
    "consumer_secret=os.getenv('API_KEY_SECRET')\n",
    "access_token=os.getenv('ACCESS_TOKEN')\n",
    "access_secret=os.getenv('ACCESS_TOKEN_SECRET')"
   ]
  },
  {
   "cell_type": "markdown",
   "metadata": {},
   "source": [
    "Using the OAuth interface to authorize our app to acces Twitter on our behalf:"
   ]
  },
  {
   "cell_type": "code",
   "execution_count": 2,
   "metadata": {},
   "outputs": [],
   "source": [
    "import tweepy\n",
    "from tweepy import OAuthHandler\n",
    "\n",
    "auth = OAuthHandler(consumer_key, consumer_secret)\n",
    "auth.set_access_token(access_token, access_secret)\n",
    "\n",
    "api = tweepy.API(auth)"
   ]
  },
  {
   "cell_type": "markdown",
   "metadata": {},
   "source": [
    "The <em>api</em> variable act as an entry point for most of the operations we can perform with Twitter."
   ]
  },
  {
   "cell_type": "markdown",
   "metadata": {},
   "source": [
    "Reading our own timeline:"
   ]
  },
  {
   "cell_type": "code",
   "execution_count": 3,
   "metadata": {},
   "outputs": [
    {
     "name": "stdout",
     "output_type": "stream",
     "text": [
      "Sublime Systems is the first company with a potential pathway to producing cost-effective, zero-carbon cement. Hear… https://t.co/CM4jFDPIKa\n",
      "Atlético Madrid's president on the Cristiano Ronaldo rumors: 'I don't know who invented this story about Cristiano… https://t.co/TpX6vOUeG2\n",
      "I don’t know why but decisions like that pull back really irritate me. \n",
      "\n",
      "I don’t care if it’s 9 minutes in, it’s on… https://t.co/h2xQpWMmnz\n",
      "Compliment ya bezti?😭 https://t.co/zydjZWvauU\n",
      "😁 https://t.co/UnMWUpsN4K\n",
      "What’s this new Twitter refresh sound?😳\n",
      "The team behind NFT Worlds announced it will create a new game that's “based on many of the core mechanics of Minec… https://t.co/Y5Ajci9oFF\n",
      "he is do eww and shit fuck i have attachment issues\n",
      "nononononono\n",
      "Legendary venture capitalist Ben Horowitz on culture mistakes most companies make, diversity in leadership, and the… https://t.co/FxYCsPuFxH\n"
     ]
    }
   ],
   "source": [
    "for status in tweepy.Cursor(api.home_timeline).items(10):\n",
    "    print(status.text)"
   ]
  },
  {
   "cell_type": "markdown",
   "metadata": {},
   "source": [
    "List of all our followers:"
   ]
  },
  {
   "cell_type": "code",
   "execution_count": 4,
   "metadata": {},
   "outputs": [
    {
     "name": "stdout",
     "output_type": "stream",
     "text": [
      "ChuphojaMohit\n",
      "Cynane\n",
      "Sim\n",
      "ѕку\n",
      "Marwahasparsh\n",
      "Shree\n",
      "HedgeCo\n",
      "Aditixw\n",
      "Pushtii🍕\n",
      "A\n",
      "Rishihhihi\n",
      "SD\n",
      "Akanksha Dhar\n",
      "Aryan Khubchandani\n",
      "Likhit Ajeesh\n",
      "Pranit 🧩\n",
      "Arihant\n",
      "S🌙\n",
      "Vishesh Bansal\n",
      "Aneesh Panda\n",
      "anusha\n",
      "Ayush Gupta\n",
      "Ayush Gupta\n",
      "Devanshi\n",
      "Harish Edison\n",
      "toto by africa\n",
      "Priyaanka\n",
      "Anuran Roy\n",
      "Nikhil Agarwal\n",
      "Sherri\n",
      "Nisarg Mehta\n",
      "The Auto Journal\n",
      "Hetavi Mehta\n",
      "Vyom\n",
      "Pulastya Sinha\n",
      "Chinmay Aggarwal\n",
      "Harold Sinnott 📲 #DigitalTransformation\n",
      "Aditya Swamy\n",
      "sachaiibolrahahu\n",
      "Aayush\n",
      "TacoYuks\n"
     ]
    }
   ],
   "source": [
    "for followers in tweepy.Cursor(api.get_followers).items():\n",
    "    print(followers.name)"
   ]
  },
  {
   "cell_type": "markdown",
   "metadata": {},
   "source": [
    "List of all our tweets:"
   ]
  },
  {
   "cell_type": "code",
   "execution_count": 5,
   "metadata": {},
   "outputs": [
    {
     "name": "stdout",
     "output_type": "stream",
     "text": [
      "RT @Twitter: wishing everyone with less than 350 followers a very nice day\n",
      "Chalo bhai mil gaya access finally😮‍💨\n",
      "Thank you @TwitterDev https://t.co/n8gRTybS3T\n",
      "Bye Mumbai ❤️ Will be back soon.\n",
      "@ayushwhatf fr😂😂\n",
      "RT @MindTendencies2: At some point you gotta get real with yourself about the role you played in creating your own toxic patterns and how m…\n",
      "Cute book https://t.co/LAz9uXDYcT\n",
      "RT @_hrithikn: Just go for a walk!\n",
      "\n",
      "It can solve a lot of chaos going in ur mind at times\n",
      "Kohliii...ab nahi dekha jata yaar😭\n",
      "RT @ShutupAyushiii: That introvert urge to not pick the call just to text them \"kya hua?\"\n",
      "@arham__doshi kya matlab borivali se churchgate 3 ghante lagenge😵\n"
     ]
    }
   ],
   "source": [
    "for tweets in tweepy.Cursor(api.user_timeline).items(10):\n",
    "    print(tweets.text)"
   ]
  }
 ],
 "metadata": {
  "kernelspec": {
   "display_name": "Python 3.10.1 64-bit",
   "language": "python",
   "name": "python3"
  },
  "language_info": {
   "codemirror_mode": {
    "name": "ipython",
    "version": 3
   },
   "file_extension": ".py",
   "mimetype": "text/x-python",
   "name": "python",
   "nbconvert_exporter": "python",
   "pygments_lexer": "ipython3",
   "version": "3.10.5"
  },
  "orig_nbformat": 4,
  "vscode": {
   "interpreter": {
    "hash": "f132bea8b93cea75a13aff330cbb4953f3165633a758019ff8ea38d62c6b3e87"
   }
  }
 },
 "nbformat": 4,
 "nbformat_minor": 2
}
